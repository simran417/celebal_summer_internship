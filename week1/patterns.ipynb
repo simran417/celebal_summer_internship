{
 "cells": [
  {
   "cell_type": "code",
   "execution_count": 2,
   "id": "0ce51cf8",
   "metadata": {},
   "outputs": [
    {
     "name": "stdout",
     "output_type": "stream",
     "text": [
      "*\n",
      "**\n",
      "***\n",
      "****\n",
      "*****\n"
     ]
    }
   ],
   "source": [
    "# lower triangular:\n",
    "row=int(input(\"Enter no. of rows: \"))\n",
    "for i in range(1, row+1):\n",
    "    print('*' *i)"
   ]
  },
  {
   "cell_type": "code",
   "execution_count": 3,
   "id": "05ec3ab4",
   "metadata": {},
   "outputs": [
    {
     "name": "stdout",
     "output_type": "stream",
     "text": [
      "*****\n",
      "****\n",
      "***\n",
      "**\n",
      "*\n"
     ]
    }
   ],
   "source": [
    "# upper triangular:\n",
    "rows=int(input(\"Enter no. of rows: \"))\n",
    "for i in range(rows, 0, -1):\n",
    "    print('*'*i)"
   ]
  },
  {
   "cell_type": "code",
   "execution_count": 4,
   "id": "ba147892",
   "metadata": {},
   "outputs": [
    {
     "name": "stdout",
     "output_type": "stream",
     "text": [
      "    *\n",
      "   ***\n",
      "  *****\n",
      " *******\n",
      "*********\n"
     ]
    }
   ],
   "source": [
    "# pyramid:\n",
    "Rows=int(input(\"Enter no. of rows: \"))\n",
    "for i in range(1,Rows+1):\n",
    "    print(' '*(rows-i)+'*'*(2*i-1))"
   ]
  }
 ],
 "metadata": {
  "kernelspec": {
   "display_name": "Python 3",
   "language": "python",
   "name": "python3"
  },
  "language_info": {
   "codemirror_mode": {
    "name": "ipython",
    "version": 3
   },
   "file_extension": ".py",
   "mimetype": "text/x-python",
   "name": "python",
   "nbconvert_exporter": "python",
   "pygments_lexer": "ipython3",
   "version": "3.11.4"
  }
 },
 "nbformat": 4,
 "nbformat_minor": 5
}
