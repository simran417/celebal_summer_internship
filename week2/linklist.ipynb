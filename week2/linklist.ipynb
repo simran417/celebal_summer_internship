{
 "cells": [
  {
   "cell_type": "code",
   "execution_count": 7,
   "id": "d34c94c6",
   "metadata": {},
   "outputs": [],
   "source": [
    "# Make a node class\n",
    "class Node:\n",
    "    def __init__(self, data):\n",
    "        self.data = data\n",
    "        self.next = None\n"
   ]
  },
  {
   "cell_type": "code",
   "execution_count": 21,
   "id": "7abc5465",
   "metadata": {},
   "outputs": [],
   "source": [
    "# class for managing nodes\n",
    "class LinkedList:\n",
    "    def __init__(self):\n",
    "        self.head = None\n",
    "\n",
    "    #  to add node in the end of list:\n",
    "    def add_node(self, data):\n",
    "        new_node = Node(data)\n",
    "        if self.head is None:\n",
    "            self.head = new_node\n",
    "        else:\n",
    "            current = self.head\n",
    "            while current.next:\n",
    "                current = current.next\n",
    "            current.next = new_node\n",
    "    # print\n",
    "    def print_list(self):\n",
    "        if self.head is None:\n",
    "            print(\"List is empty.\")\n",
    "        else:\n",
    "            current = self.head\n",
    "            while current:\n",
    "                print(current.data, end=\" -> \")\n",
    "                current = current.next\n",
    "            print(\"None\")\n",
    "    # delete the nth node:\n",
    "    def delete_nth_node(self, n):\n",
    "        if n <= 0:\n",
    "            print(\"Index must be 1 or more.\")\n",
    "            return\n",
    "\n",
    "        if self.head is None:\n",
    "            print(\"List is empty. Nothing to delete.\")\n",
    "            return\n",
    "\n",
    "        if n == 1:\n",
    "            print(f\"Deleting node: {self.head.data}\")\n",
    "            self.head = self.head.next\n",
    "            return\n",
    "\n",
    "        current = self.head\n",
    "        for i in range(n - 2):\n",
    "            if current.next is None:\n",
    "                print(\"Index out of range.\")\n",
    "                return\n",
    "            current = current.next\n",
    "\n",
    "        if current.next is None:\n",
    "            print(\"Index out of range.\")\n",
    "            return\n",
    "\n",
    "        print(f\"Deleting node: {current.next.data}\")\n",
    "        current.next = current.next.next\n",
    "\n"
   ]
  },
  {
   "cell_type": "code",
   "execution_count": 22,
   "id": "9cbc0a93",
   "metadata": {},
   "outputs": [
    {
     "name": "stdout",
     "output_type": "stream",
     "text": [
      "Original List:\n",
      "10 -> 20 -> 30 -> 40 -> None\n",
      "Deleting node: 30\n",
      "After deleting 3rd node:\n",
      "10 -> 20 -> 40 -> None\n",
      "Deleting node: 10\n",
      "After deleting 1st node:\n",
      "20 -> 40 -> None\n",
      "Index out of range.\n",
      "Deleting node: 20\n",
      "Deleting node: 40\n",
      "List is empty. Nothing to delete.\n"
     ]
    }
   ],
   "source": [
    "# example:\n",
    "ll = LinkedList()\n",
    "ll.add_node(10)\n",
    "ll.add_node(20)\n",
    "ll.add_node(30)\n",
    "ll.add_node(40)\n",
    "\n",
    "print(\"Original List:\")\n",
    "ll.print_list()\n",
    "\n",
    "ll.delete_nth_node(3)\n",
    "print(\"After deleting 3rd node:\")\n",
    "ll.print_list()\n",
    "\n",
    "ll.delete_nth_node(1)\n",
    "print(\"After deleting 1st node:\")\n",
    "ll.print_list()\n",
    "\n",
    "ll.delete_nth_node(10)  # Out of range\n",
    "\n",
    "ll.delete_nth_node(1)\n",
    "ll.delete_nth_node(1)\n",
    "ll.delete_nth_node(1)  # Deleting from empty list"
   ]
  }
 ],
 "metadata": {
  "kernelspec": {
   "display_name": "Python 3",
   "language": "python",
   "name": "python3"
  },
  "language_info": {
   "codemirror_mode": {
    "name": "ipython",
    "version": 3
   },
   "file_extension": ".py",
   "mimetype": "text/x-python",
   "name": "python",
   "nbconvert_exporter": "python",
   "pygments_lexer": "ipython3",
   "version": "3.11.4"
  }
 },
 "nbformat": 4,
 "nbformat_minor": 5
}
